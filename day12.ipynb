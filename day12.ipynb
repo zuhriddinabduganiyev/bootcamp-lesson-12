{
 "cells": [
  {
   "cell_type": "markdown",
   "metadata": {},
   "source": [
    "#                   V A Z I F A"
   ]
  },
  {
   "cell_type": "code",
   "execution_count": 426,
   "metadata": {},
   "outputs": [],
   "source": [
    "import pandas as pd\n"
   ]
  },
  {
   "cell_type": "code",
   "execution_count": 427,
   "metadata": {},
   "outputs": [],
   "source": [
    "df = pd.read_csv(\"example.csv\")"
   ]
  },
  {
   "cell_type": "markdown",
   "metadata": {},
   "source": [
    "# ---------------------------------------------------------------"
   ]
  },
  {
   "cell_type": "markdown",
   "metadata": {},
   "source": [
    "## THe information of DataFrame and how many non null values ?"
   ]
  },
  {
   "cell_type": "code",
   "execution_count": 428,
   "metadata": {},
   "outputs": [
    {
     "name": "stdout",
     "output_type": "stream",
     "text": [
      "<class 'pandas.core.frame.DataFrame'>\n",
      "RangeIndex: 40769 entries, 0 to 40768\n",
      "Data columns (total 32 columns):\n",
      " #   Column                       Non-Null Count  Dtype  \n",
      "---  ------                       --------------  -----  \n",
      " 0   Unnamed: 0                   40769 non-null  int64  \n",
      " 1   Safety                       40769 non-null  int64  \n",
      " 2   yacEPA                       15867 non-null  float64\n",
      " 3   Drive                        40769 non-null  int64  \n",
      " 4   FieldGoalDistance            902 non-null    float64\n",
      " 5   airEPA                       15875 non-null  float64\n",
      " 6   Field_Goal_Prob              40748 non-null  float64\n",
      " 7   posteam                      38219 non-null  object \n",
      " 8   Penalty.Yards                40769 non-null  int64  \n",
      " 9   FieldGoalResult              908 non-null    object \n",
      " 10  DefTeamScore                 38019 non-null  float64\n",
      " 11  Tackler2                     4943 non-null   object \n",
      " 12  Away_WP_pre                  38223 non-null  float64\n",
      " 13  Timeout_Indicator            40769 non-null  int64  \n",
      " 14  ydsnet                       40769 non-null  int64  \n",
      " 15  TimeSecs                     40742 non-null  float64\n",
      " 16  Passer                       16696 non-null  object \n",
      " 17  Touchdown                    40769 non-null  int64  \n",
      " 18  TwoPointConv                 53 non-null     object \n",
      " 19  PassOutcome                  16751 non-null  object \n",
      " 20  PlayTimeDiff                 40726 non-null  float64\n",
      " 21  RushAttempt                  40769 non-null  int64  \n",
      " 22  Accepted.Penalty             40769 non-null  int64  \n",
      " 23  qtr                          40769 non-null  int64  \n",
      " 24  AwayTimeouts_Remaining_Post  40769 non-null  int64  \n",
      " 25  RunGap                       8761 non-null   object \n",
      " 26  Reception                    40769 non-null  int64  \n",
      " 27  TimeUnder                    40769 non-null  int64  \n",
      " 28  Season                       40769 non-null  int64  \n",
      " 29  Opp_Safety_Prob              40748 non-null  float64\n",
      " 30  No_Score_Prob                40748 non-null  float64\n",
      " 31  Challenge.Replay             40769 non-null  int64  \n",
      "dtypes: float64(10), int64(15), object(7)\n",
      "memory usage: 10.0+ MB\n"
     ]
    }
   ],
   "source": [
    "df.info()"
   ]
  },
  {
   "cell_type": "markdown",
   "metadata": {},
   "source": [
    "# ---------------------------------------------------------------"
   ]
  },
  {
   "cell_type": "markdown",
   "metadata": {},
   "source": [
    "## The shape of our DataFrame ?"
   ]
  },
  {
   "cell_type": "code",
   "execution_count": 429,
   "metadata": {},
   "outputs": [
    {
     "data": {
      "text/plain": [
       "(40769, 32)"
      ]
     },
     "execution_count": 429,
     "metadata": {},
     "output_type": "execute_result"
    }
   ],
   "source": [
    "df.shape"
   ]
  },
  {
   "cell_type": "markdown",
   "metadata": {},
   "source": [
    "## We have 40769rows and 32columns in DataFrame"
   ]
  },
  {
   "cell_type": "markdown",
   "metadata": {},
   "source": [
    "# ---------------------------------------------------------------"
   ]
  },
  {
   "cell_type": "markdown",
   "metadata": {},
   "source": [
    "## The head of the our DataFrame"
   ]
  },
  {
   "cell_type": "code",
   "execution_count": 430,
   "metadata": {},
   "outputs": [
    {
     "data": {
      "text/html": [
       "<div>\n",
       "<style scoped>\n",
       "    .dataframe tbody tr th:only-of-type {\n",
       "        vertical-align: middle;\n",
       "    }\n",
       "\n",
       "    .dataframe tbody tr th {\n",
       "        vertical-align: top;\n",
       "    }\n",
       "\n",
       "    .dataframe thead th {\n",
       "        text-align: right;\n",
       "    }\n",
       "</style>\n",
       "<table border=\"1\" class=\"dataframe\">\n",
       "  <thead>\n",
       "    <tr style=\"text-align: right;\">\n",
       "      <th></th>\n",
       "      <th>Unnamed: 0</th>\n",
       "      <th>Safety</th>\n",
       "      <th>yacEPA</th>\n",
       "      <th>Drive</th>\n",
       "      <th>FieldGoalDistance</th>\n",
       "      <th>airEPA</th>\n",
       "      <th>Field_Goal_Prob</th>\n",
       "      <th>posteam</th>\n",
       "      <th>Penalty.Yards</th>\n",
       "      <th>FieldGoalResult</th>\n",
       "      <th>...</th>\n",
       "      <th>Accepted.Penalty</th>\n",
       "      <th>qtr</th>\n",
       "      <th>AwayTimeouts_Remaining_Post</th>\n",
       "      <th>RunGap</th>\n",
       "      <th>Reception</th>\n",
       "      <th>TimeUnder</th>\n",
       "      <th>Season</th>\n",
       "      <th>Opp_Safety_Prob</th>\n",
       "      <th>No_Score_Prob</th>\n",
       "      <th>Challenge.Replay</th>\n",
       "    </tr>\n",
       "  </thead>\n",
       "  <tbody>\n",
       "    <tr>\n",
       "      <th>0</th>\n",
       "      <td>244485</td>\n",
       "      <td>0</td>\n",
       "      <td>1.240299</td>\n",
       "      <td>18</td>\n",
       "      <td>NaN</td>\n",
       "      <td>-0.588101</td>\n",
       "      <td>0.309404</td>\n",
       "      <td>TB</td>\n",
       "      <td>0</td>\n",
       "      <td>NaN</td>\n",
       "      <td>...</td>\n",
       "      <td>0</td>\n",
       "      <td>3</td>\n",
       "      <td>3</td>\n",
       "      <td>NaN</td>\n",
       "      <td>1</td>\n",
       "      <td>1</td>\n",
       "      <td>2014</td>\n",
       "      <td>0.000527</td>\n",
       "      <td>0.024134</td>\n",
       "      <td>0</td>\n",
       "    </tr>\n",
       "    <tr>\n",
       "      <th>1</th>\n",
       "      <td>115340</td>\n",
       "      <td>0</td>\n",
       "      <td>NaN</td>\n",
       "      <td>22</td>\n",
       "      <td>NaN</td>\n",
       "      <td>NaN</td>\n",
       "      <td>0.198142</td>\n",
       "      <td>OAK</td>\n",
       "      <td>0</td>\n",
       "      <td>NaN</td>\n",
       "      <td>...</td>\n",
       "      <td>0</td>\n",
       "      <td>4</td>\n",
       "      <td>3</td>\n",
       "      <td>NaN</td>\n",
       "      <td>0</td>\n",
       "      <td>7</td>\n",
       "      <td>2011</td>\n",
       "      <td>0.001883</td>\n",
       "      <td>0.246929</td>\n",
       "      <td>0</td>\n",
       "    </tr>\n",
       "    <tr>\n",
       "      <th>2</th>\n",
       "      <td>68357</td>\n",
       "      <td>0</td>\n",
       "      <td>NaN</td>\n",
       "      <td>8</td>\n",
       "      <td>NaN</td>\n",
       "      <td>NaN</td>\n",
       "      <td>0.000000</td>\n",
       "      <td>NYJ</td>\n",
       "      <td>0</td>\n",
       "      <td>NaN</td>\n",
       "      <td>...</td>\n",
       "      <td>0</td>\n",
       "      <td>2</td>\n",
       "      <td>1</td>\n",
       "      <td>NaN</td>\n",
       "      <td>0</td>\n",
       "      <td>1</td>\n",
       "      <td>2010</td>\n",
       "      <td>0.000000</td>\n",
       "      <td>0.000000</td>\n",
       "      <td>0</td>\n",
       "    </tr>\n",
       "    <tr>\n",
       "      <th>3</th>\n",
       "      <td>368377</td>\n",
       "      <td>0</td>\n",
       "      <td>1.075660</td>\n",
       "      <td>24</td>\n",
       "      <td>NaN</td>\n",
       "      <td>0.402080</td>\n",
       "      <td>0.258227</td>\n",
       "      <td>CLE</td>\n",
       "      <td>0</td>\n",
       "      <td>NaN</td>\n",
       "      <td>...</td>\n",
       "      <td>0</td>\n",
       "      <td>4</td>\n",
       "      <td>0</td>\n",
       "      <td>NaN</td>\n",
       "      <td>1</td>\n",
       "      <td>9</td>\n",
       "      <td>2017</td>\n",
       "      <td>0.000845</td>\n",
       "      <td>0.133814</td>\n",
       "      <td>0</td>\n",
       "    </tr>\n",
       "    <tr>\n",
       "      <th>4</th>\n",
       "      <td>384684</td>\n",
       "      <td>0</td>\n",
       "      <td>NaN</td>\n",
       "      <td>11</td>\n",
       "      <td>NaN</td>\n",
       "      <td>NaN</td>\n",
       "      <td>0.199771</td>\n",
       "      <td>DEN</td>\n",
       "      <td>0</td>\n",
       "      <td>NaN</td>\n",
       "      <td>...</td>\n",
       "      <td>0</td>\n",
       "      <td>2</td>\n",
       "      <td>2</td>\n",
       "      <td>end</td>\n",
       "      <td>0</td>\n",
       "      <td>10</td>\n",
       "      <td>2017</td>\n",
       "      <td>0.003453</td>\n",
       "      <td>0.170787</td>\n",
       "      <td>0</td>\n",
       "    </tr>\n",
       "  </tbody>\n",
       "</table>\n",
       "<p>5 rows × 32 columns</p>\n",
       "</div>"
      ],
      "text/plain": [
       "   Unnamed: 0  Safety    yacEPA  Drive  FieldGoalDistance    airEPA  \\\n",
       "0      244485       0  1.240299     18                NaN -0.588101   \n",
       "1      115340       0       NaN     22                NaN       NaN   \n",
       "2       68357       0       NaN      8                NaN       NaN   \n",
       "3      368377       0  1.075660     24                NaN  0.402080   \n",
       "4      384684       0       NaN     11                NaN       NaN   \n",
       "\n",
       "   Field_Goal_Prob posteam  Penalty.Yards FieldGoalResult  ...  \\\n",
       "0         0.309404      TB              0             NaN  ...   \n",
       "1         0.198142     OAK              0             NaN  ...   \n",
       "2         0.000000     NYJ              0             NaN  ...   \n",
       "3         0.258227     CLE              0             NaN  ...   \n",
       "4         0.199771     DEN              0             NaN  ...   \n",
       "\n",
       "   Accepted.Penalty qtr  AwayTimeouts_Remaining_Post  RunGap  Reception  \\\n",
       "0                 0   3                            3     NaN          1   \n",
       "1                 0   4                            3     NaN          0   \n",
       "2                 0   2                            1     NaN          0   \n",
       "3                 0   4                            0     NaN          1   \n",
       "4                 0   2                            2     end          0   \n",
       "\n",
       "   TimeUnder Season  Opp_Safety_Prob No_Score_Prob Challenge.Replay  \n",
       "0          1   2014         0.000527      0.024134                0  \n",
       "1          7   2011         0.001883      0.246929                0  \n",
       "2          1   2010         0.000000      0.000000                0  \n",
       "3          9   2017         0.000845      0.133814                0  \n",
       "4         10   2017         0.003453      0.170787                0  \n",
       "\n",
       "[5 rows x 32 columns]"
      ]
     },
     "execution_count": 430,
     "metadata": {},
     "output_type": "execute_result"
    }
   ],
   "source": [
    "df.head()"
   ]
  },
  {
   "cell_type": "markdown",
   "metadata": {},
   "source": [
    "# ---------------------------------------------------------------"
   ]
  },
  {
   "cell_type": "markdown",
   "metadata": {},
   "source": [
    "## The column names:"
   ]
  },
  {
   "cell_type": "code",
   "execution_count": 431,
   "metadata": {},
   "outputs": [
    {
     "data": {
      "text/plain": [
       "Index(['Unnamed: 0', 'Safety', 'yacEPA', 'Drive', 'FieldGoalDistance',\n",
       "       'airEPA', 'Field_Goal_Prob', 'posteam', 'Penalty.Yards',\n",
       "       'FieldGoalResult', 'DefTeamScore', 'Tackler2', 'Away_WP_pre',\n",
       "       'Timeout_Indicator', 'ydsnet', 'TimeSecs', 'Passer', 'Touchdown',\n",
       "       'TwoPointConv', 'PassOutcome', 'PlayTimeDiff', 'RushAttempt',\n",
       "       'Accepted.Penalty', 'qtr', 'AwayTimeouts_Remaining_Post', 'RunGap',\n",
       "       'Reception', 'TimeUnder', 'Season', 'Opp_Safety_Prob', 'No_Score_Prob',\n",
       "       'Challenge.Replay'],\n",
       "      dtype='object')"
      ]
     },
     "execution_count": 431,
     "metadata": {},
     "output_type": "execute_result"
    }
   ],
   "source": [
    "df.columns"
   ]
  },
  {
   "cell_type": "markdown",
   "metadata": {},
   "source": [
    "# ---------------------------------------------------------------"
   ]
  },
  {
   "cell_type": "markdown",
   "metadata": {},
   "source": [
    "## FieldGoalDistance ustunidan nechta NaN qiymat qatnashgani ?"
   ]
  },
  {
   "cell_type": "code",
   "execution_count": 432,
   "metadata": {},
   "outputs": [
    {
     "data": {
      "text/plain": [
       "39867"
      ]
     },
     "execution_count": 432,
     "metadata": {},
     "output_type": "execute_result"
    }
   ],
   "source": [
    "df[\"FieldGoalDistance\"].isnull().sum()"
   ]
  },
  {
   "cell_type": "code",
   "execution_count": 433,
   "metadata": {},
   "outputs": [],
   "source": [
    "df = df.drop('FieldGoalDistance', axis=1)"
   ]
  },
  {
   "cell_type": "markdown",
   "metadata": {},
   "source": [
    "## Ushbu ustunda 40769 ta qator mavjud bo'lsa undan 39867tasi NaN qiymatlar bilan to'lgan bu ustunni tashlab yuborsak ham bo'ladi chunki 98% ma'lumot yo'q."
   ]
  },
  {
   "cell_type": "markdown",
   "metadata": {},
   "source": [
    "# ---------------------------------------------------------------"
   ]
  },
  {
   "cell_type": "code",
   "execution_count": 434,
   "metadata": {},
   "outputs": [
    {
     "data": {
      "text/html": [
       "<div>\n",
       "<style scoped>\n",
       "    .dataframe tbody tr th:only-of-type {\n",
       "        vertical-align: middle;\n",
       "    }\n",
       "\n",
       "    .dataframe tbody tr th {\n",
       "        vertical-align: top;\n",
       "    }\n",
       "\n",
       "    .dataframe thead th {\n",
       "        text-align: right;\n",
       "    }\n",
       "</style>\n",
       "<table border=\"1\" class=\"dataframe\">\n",
       "  <thead>\n",
       "    <tr style=\"text-align: right;\">\n",
       "      <th></th>\n",
       "      <th>Unnamed: 0</th>\n",
       "      <th>Safety</th>\n",
       "      <th>yacEPA</th>\n",
       "      <th>Drive</th>\n",
       "      <th>airEPA</th>\n",
       "      <th>Field_Goal_Prob</th>\n",
       "      <th>posteam</th>\n",
       "      <th>Penalty.Yards</th>\n",
       "      <th>FieldGoalResult</th>\n",
       "      <th>DefTeamScore</th>\n",
       "      <th>...</th>\n",
       "      <th>Accepted.Penalty</th>\n",
       "      <th>qtr</th>\n",
       "      <th>AwayTimeouts_Remaining_Post</th>\n",
       "      <th>RunGap</th>\n",
       "      <th>Reception</th>\n",
       "      <th>TimeUnder</th>\n",
       "      <th>Season</th>\n",
       "      <th>Opp_Safety_Prob</th>\n",
       "      <th>No_Score_Prob</th>\n",
       "      <th>Challenge.Replay</th>\n",
       "    </tr>\n",
       "  </thead>\n",
       "  <tbody>\n",
       "    <tr>\n",
       "      <th>0</th>\n",
       "      <td>244485</td>\n",
       "      <td>0</td>\n",
       "      <td>1.240299</td>\n",
       "      <td>18</td>\n",
       "      <td>-0.588101</td>\n",
       "      <td>0.309404</td>\n",
       "      <td>TB</td>\n",
       "      <td>0</td>\n",
       "      <td>NaN</td>\n",
       "      <td>10.0</td>\n",
       "      <td>...</td>\n",
       "      <td>0</td>\n",
       "      <td>3</td>\n",
       "      <td>3</td>\n",
       "      <td>NaN</td>\n",
       "      <td>1</td>\n",
       "      <td>1</td>\n",
       "      <td>2014</td>\n",
       "      <td>0.000527</td>\n",
       "      <td>0.024134</td>\n",
       "      <td>0</td>\n",
       "    </tr>\n",
       "    <tr>\n",
       "      <th>1</th>\n",
       "      <td>115340</td>\n",
       "      <td>0</td>\n",
       "      <td>NaN</td>\n",
       "      <td>22</td>\n",
       "      <td>NaN</td>\n",
       "      <td>0.198142</td>\n",
       "      <td>OAK</td>\n",
       "      <td>0</td>\n",
       "      <td>NaN</td>\n",
       "      <td>14.0</td>\n",
       "      <td>...</td>\n",
       "      <td>0</td>\n",
       "      <td>4</td>\n",
       "      <td>3</td>\n",
       "      <td>NaN</td>\n",
       "      <td>0</td>\n",
       "      <td>7</td>\n",
       "      <td>2011</td>\n",
       "      <td>0.001883</td>\n",
       "      <td>0.246929</td>\n",
       "      <td>0</td>\n",
       "    </tr>\n",
       "    <tr>\n",
       "      <th>2</th>\n",
       "      <td>68357</td>\n",
       "      <td>0</td>\n",
       "      <td>NaN</td>\n",
       "      <td>8</td>\n",
       "      <td>NaN</td>\n",
       "      <td>0.000000</td>\n",
       "      <td>NYJ</td>\n",
       "      <td>0</td>\n",
       "      <td>NaN</td>\n",
       "      <td>13.0</td>\n",
       "      <td>...</td>\n",
       "      <td>0</td>\n",
       "      <td>2</td>\n",
       "      <td>1</td>\n",
       "      <td>NaN</td>\n",
       "      <td>0</td>\n",
       "      <td>1</td>\n",
       "      <td>2010</td>\n",
       "      <td>0.000000</td>\n",
       "      <td>0.000000</td>\n",
       "      <td>0</td>\n",
       "    </tr>\n",
       "    <tr>\n",
       "      <th>3</th>\n",
       "      <td>368377</td>\n",
       "      <td>0</td>\n",
       "      <td>1.075660</td>\n",
       "      <td>24</td>\n",
       "      <td>0.402080</td>\n",
       "      <td>0.258227</td>\n",
       "      <td>CLE</td>\n",
       "      <td>0</td>\n",
       "      <td>NaN</td>\n",
       "      <td>31.0</td>\n",
       "      <td>...</td>\n",
       "      <td>0</td>\n",
       "      <td>4</td>\n",
       "      <td>0</td>\n",
       "      <td>NaN</td>\n",
       "      <td>1</td>\n",
       "      <td>9</td>\n",
       "      <td>2017</td>\n",
       "      <td>0.000845</td>\n",
       "      <td>0.133814</td>\n",
       "      <td>0</td>\n",
       "    </tr>\n",
       "    <tr>\n",
       "      <th>4</th>\n",
       "      <td>384684</td>\n",
       "      <td>0</td>\n",
       "      <td>NaN</td>\n",
       "      <td>11</td>\n",
       "      <td>NaN</td>\n",
       "      <td>0.199771</td>\n",
       "      <td>DEN</td>\n",
       "      <td>0</td>\n",
       "      <td>NaN</td>\n",
       "      <td>24.0</td>\n",
       "      <td>...</td>\n",
       "      <td>0</td>\n",
       "      <td>2</td>\n",
       "      <td>2</td>\n",
       "      <td>end</td>\n",
       "      <td>0</td>\n",
       "      <td>10</td>\n",
       "      <td>2017</td>\n",
       "      <td>0.003453</td>\n",
       "      <td>0.170787</td>\n",
       "      <td>0</td>\n",
       "    </tr>\n",
       "  </tbody>\n",
       "</table>\n",
       "<p>5 rows × 31 columns</p>\n",
       "</div>"
      ],
      "text/plain": [
       "   Unnamed: 0  Safety    yacEPA  Drive    airEPA  Field_Goal_Prob posteam  \\\n",
       "0      244485       0  1.240299     18 -0.588101         0.309404      TB   \n",
       "1      115340       0       NaN     22       NaN         0.198142     OAK   \n",
       "2       68357       0       NaN      8       NaN         0.000000     NYJ   \n",
       "3      368377       0  1.075660     24  0.402080         0.258227     CLE   \n",
       "4      384684       0       NaN     11       NaN         0.199771     DEN   \n",
       "\n",
       "   Penalty.Yards FieldGoalResult  DefTeamScore  ... Accepted.Penalty  qtr  \\\n",
       "0              0             NaN          10.0  ...                0    3   \n",
       "1              0             NaN          14.0  ...                0    4   \n",
       "2              0             NaN          13.0  ...                0    2   \n",
       "3              0             NaN          31.0  ...                0    4   \n",
       "4              0             NaN          24.0  ...                0    2   \n",
       "\n",
       "   AwayTimeouts_Remaining_Post  RunGap  Reception TimeUnder  Season  \\\n",
       "0                            3     NaN          1         1    2014   \n",
       "1                            3     NaN          0         7    2011   \n",
       "2                            1     NaN          0         1    2010   \n",
       "3                            0     NaN          1         9    2017   \n",
       "4                            2     end          0        10    2017   \n",
       "\n",
       "  Opp_Safety_Prob No_Score_Prob  Challenge.Replay  \n",
       "0        0.000527      0.024134                 0  \n",
       "1        0.001883      0.246929                 0  \n",
       "2        0.000000      0.000000                 0  \n",
       "3        0.000845      0.133814                 0  \n",
       "4        0.003453      0.170787                 0  \n",
       "\n",
       "[5 rows x 31 columns]"
      ]
     },
     "execution_count": 434,
     "metadata": {},
     "output_type": "execute_result"
    }
   ],
   "source": [
    "df.head()"
   ]
  },
  {
   "cell_type": "markdown",
   "metadata": {},
   "source": [
    "# ---------------------------------------------------------------"
   ]
  },
  {
   "cell_type": "markdown",
   "metadata": {},
   "source": [
    "## The number of NaN values in \"Field_Goal_Prob\" ?"
   ]
  },
  {
   "cell_type": "code",
   "execution_count": 435,
   "metadata": {},
   "outputs": [
    {
     "data": {
      "text/plain": [
       "21"
      ]
     },
     "execution_count": 435,
     "metadata": {},
     "output_type": "execute_result"
    }
   ],
   "source": [
    "df[\"Field_Goal_Prob\"].isnull().sum()"
   ]
  },
  {
   "cell_type": "markdown",
   "metadata": {},
   "source": [
    "## The number of NaN values in \"Field_Goal_Prob\" column 21 from 40679, bu foizda 0,05% tashkil qiladi."
   ]
  },
  {
   "cell_type": "markdown",
   "metadata": {},
   "source": [
    "## We can change the NaN values with median or mean (median yoki o'rta arifmetik qiymat) of other vales."
   ]
  },
  {
   "cell_type": "code",
   "execution_count": 436,
   "metadata": {},
   "outputs": [
    {
     "data": {
      "text/plain": [
       "(0.24367961032922636, 0.2306319714387671)"
      ]
     },
     "execution_count": 436,
     "metadata": {},
     "output_type": "execute_result"
    }
   ],
   "source": [
    "df['Field_Goal_Prob'].mean(), df['Field_Goal_Prob'].median()"
   ]
  },
  {
   "cell_type": "markdown",
   "metadata": {},
   "source": [
    "## Mediana bilan o'rta arifmetik bir biridan katta farq qilmas ekan istalgan bittasini NaN qiymatlarga qo'yib yuborsak bo'ladi."
   ]
  },
  {
   "cell_type": "code",
   "execution_count": 437,
   "metadata": {},
   "outputs": [
    {
     "data": {
      "text/plain": [
       "0"
      ]
     },
     "execution_count": 437,
     "metadata": {},
     "output_type": "execute_result"
    }
   ],
   "source": [
    "df['Field_Goal_Prob'] = df['Field_Goal_Prob'].fillna(df['Field_Goal_Prob'].mean())\n",
    "df[\"Field_Goal_Prob\"].isnull().sum()"
   ]
  },
  {
   "cell_type": "markdown",
   "metadata": {},
   "source": [
    "## NaN qiymatlar o'rniga qolgan qiymatlarning o'rta arifmetigini qo'yib yubordim."
   ]
  },
  {
   "cell_type": "markdown",
   "metadata": {},
   "source": [
    "# ---------------------------------------------------------------"
   ]
  },
  {
   "cell_type": "code",
   "execution_count": 438,
   "metadata": {},
   "outputs": [
    {
     "data": {
      "text/html": [
       "<div>\n",
       "<style scoped>\n",
       "    .dataframe tbody tr th:only-of-type {\n",
       "        vertical-align: middle;\n",
       "    }\n",
       "\n",
       "    .dataframe tbody tr th {\n",
       "        vertical-align: top;\n",
       "    }\n",
       "\n",
       "    .dataframe thead th {\n",
       "        text-align: right;\n",
       "    }\n",
       "</style>\n",
       "<table border=\"1\" class=\"dataframe\">\n",
       "  <thead>\n",
       "    <tr style=\"text-align: right;\">\n",
       "      <th></th>\n",
       "      <th>Unnamed: 0</th>\n",
       "      <th>Safety</th>\n",
       "      <th>yacEPA</th>\n",
       "      <th>Drive</th>\n",
       "      <th>airEPA</th>\n",
       "      <th>Field_Goal_Prob</th>\n",
       "      <th>posteam</th>\n",
       "      <th>Penalty.Yards</th>\n",
       "      <th>FieldGoalResult</th>\n",
       "      <th>DefTeamScore</th>\n",
       "      <th>...</th>\n",
       "      <th>Accepted.Penalty</th>\n",
       "      <th>qtr</th>\n",
       "      <th>AwayTimeouts_Remaining_Post</th>\n",
       "      <th>RunGap</th>\n",
       "      <th>Reception</th>\n",
       "      <th>TimeUnder</th>\n",
       "      <th>Season</th>\n",
       "      <th>Opp_Safety_Prob</th>\n",
       "      <th>No_Score_Prob</th>\n",
       "      <th>Challenge.Replay</th>\n",
       "    </tr>\n",
       "  </thead>\n",
       "  <tbody>\n",
       "    <tr>\n",
       "      <th>0</th>\n",
       "      <td>244485</td>\n",
       "      <td>0</td>\n",
       "      <td>1.240299</td>\n",
       "      <td>18</td>\n",
       "      <td>-0.588101</td>\n",
       "      <td>0.309404</td>\n",
       "      <td>TB</td>\n",
       "      <td>0</td>\n",
       "      <td>NaN</td>\n",
       "      <td>10.0</td>\n",
       "      <td>...</td>\n",
       "      <td>0</td>\n",
       "      <td>3</td>\n",
       "      <td>3</td>\n",
       "      <td>NaN</td>\n",
       "      <td>1</td>\n",
       "      <td>1</td>\n",
       "      <td>2014</td>\n",
       "      <td>0.000527</td>\n",
       "      <td>0.024134</td>\n",
       "      <td>0</td>\n",
       "    </tr>\n",
       "    <tr>\n",
       "      <th>1</th>\n",
       "      <td>115340</td>\n",
       "      <td>0</td>\n",
       "      <td>NaN</td>\n",
       "      <td>22</td>\n",
       "      <td>NaN</td>\n",
       "      <td>0.198142</td>\n",
       "      <td>OAK</td>\n",
       "      <td>0</td>\n",
       "      <td>NaN</td>\n",
       "      <td>14.0</td>\n",
       "      <td>...</td>\n",
       "      <td>0</td>\n",
       "      <td>4</td>\n",
       "      <td>3</td>\n",
       "      <td>NaN</td>\n",
       "      <td>0</td>\n",
       "      <td>7</td>\n",
       "      <td>2011</td>\n",
       "      <td>0.001883</td>\n",
       "      <td>0.246929</td>\n",
       "      <td>0</td>\n",
       "    </tr>\n",
       "    <tr>\n",
       "      <th>2</th>\n",
       "      <td>68357</td>\n",
       "      <td>0</td>\n",
       "      <td>NaN</td>\n",
       "      <td>8</td>\n",
       "      <td>NaN</td>\n",
       "      <td>0.000000</td>\n",
       "      <td>NYJ</td>\n",
       "      <td>0</td>\n",
       "      <td>NaN</td>\n",
       "      <td>13.0</td>\n",
       "      <td>...</td>\n",
       "      <td>0</td>\n",
       "      <td>2</td>\n",
       "      <td>1</td>\n",
       "      <td>NaN</td>\n",
       "      <td>0</td>\n",
       "      <td>1</td>\n",
       "      <td>2010</td>\n",
       "      <td>0.000000</td>\n",
       "      <td>0.000000</td>\n",
       "      <td>0</td>\n",
       "    </tr>\n",
       "  </tbody>\n",
       "</table>\n",
       "<p>3 rows × 31 columns</p>\n",
       "</div>"
      ],
      "text/plain": [
       "   Unnamed: 0  Safety    yacEPA  Drive    airEPA  Field_Goal_Prob posteam  \\\n",
       "0      244485       0  1.240299     18 -0.588101         0.309404      TB   \n",
       "1      115340       0       NaN     22       NaN         0.198142     OAK   \n",
       "2       68357       0       NaN      8       NaN         0.000000     NYJ   \n",
       "\n",
       "   Penalty.Yards FieldGoalResult  DefTeamScore  ... Accepted.Penalty  qtr  \\\n",
       "0              0             NaN          10.0  ...                0    3   \n",
       "1              0             NaN          14.0  ...                0    4   \n",
       "2              0             NaN          13.0  ...                0    2   \n",
       "\n",
       "   AwayTimeouts_Remaining_Post  RunGap  Reception TimeUnder  Season  \\\n",
       "0                            3     NaN          1         1    2014   \n",
       "1                            3     NaN          0         7    2011   \n",
       "2                            1     NaN          0         1    2010   \n",
       "\n",
       "  Opp_Safety_Prob No_Score_Prob  Challenge.Replay  \n",
       "0        0.000527      0.024134                 0  \n",
       "1        0.001883      0.246929                 0  \n",
       "2        0.000000      0.000000                 0  \n",
       "\n",
       "[3 rows x 31 columns]"
      ]
     },
     "execution_count": 438,
     "metadata": {},
     "output_type": "execute_result"
    }
   ],
   "source": [
    "df.head(3)"
   ]
  },
  {
   "cell_type": "markdown",
   "metadata": {},
   "source": [
    "# ---------------------------------------------------------------"
   ]
  },
  {
   "cell_type": "markdown",
   "metadata": {},
   "source": [
    "## \"posteam\" columndagi NaN qiymatlar soni ?"
   ]
  },
  {
   "cell_type": "code",
   "execution_count": 439,
   "metadata": {},
   "outputs": [
    {
     "data": {
      "text/plain": [
       "2550"
      ]
     },
     "execution_count": 439,
     "metadata": {},
     "output_type": "execute_result"
    }
   ],
   "source": [
    "df[\"posteam\"].isnull().sum()"
   ]
  },
  {
   "cell_type": "code",
   "execution_count": 440,
   "metadata": {},
   "outputs": [
    {
     "data": {
      "text/plain": [
       "0"
      ]
     },
     "execution_count": 440,
     "metadata": {},
     "output_type": "execute_result"
    }
   ],
   "source": [
    "mode_of_posteam = df['posteam'].mode().values[0]  # Den jamoasi ushbu columnni modasi ekan\n",
    "df['posteam']=df['posteam'].fillna(mode_of_posteam)\n",
    "df[\"posteam\"].isnull().sum()"
   ]
  },
  {
   "cell_type": "markdown",
   "metadata": {},
   "source": [
    "## \"posteam\" columnda 2550ta NaN qiymatlar mavjud ekan, bu columnda hujum qilayotgan jamoa nomi joylashgan, bu NaN qiymatlar umumiydan 6,2% ekan bu qiymatlarni o'rniga biz ushbu columnning \"moda\"sini qo'yishimiz mumkin, chunki ko'p hujum qilgan jamoa nomi NaN qiymat o'rnida bo'lish ektimolligi katta."
   ]
  },
  {
   "cell_type": "markdown",
   "metadata": {},
   "source": [
    "# ---------------------------------------------------------------"
   ]
  },
  {
   "cell_type": "markdown",
   "metadata": {},
   "source": [
    "## \"FieldGoalResult\" ustunidagi NaN qiymatlar soni ?"
   ]
  },
  {
   "cell_type": "code",
   "execution_count": 441,
   "metadata": {},
   "outputs": [
    {
     "data": {
      "text/plain": [
       "39861"
      ]
     },
     "execution_count": 441,
     "metadata": {},
     "output_type": "execute_result"
    }
   ],
   "source": [
    "df[\"FieldGoalResult\"].isnull().sum()"
   ]
  },
  {
   "cell_type": "code",
   "execution_count": 442,
   "metadata": {},
   "outputs": [],
   "source": [
    "df = df.drop('FieldGoalResult', axis=1)"
   ]
  },
  {
   "cell_type": "markdown",
   "metadata": {},
   "source": [
    "## \"FieldGoalResult\" ustunida 39861ta NaN qiymatlar bor ekan umumiy 40769tadan. Bu degani 97,7% ma'lumot yo'q . Bu columnni drop qilib yuborsak ham bo'ladi."
   ]
  },
  {
   "cell_type": "markdown",
   "metadata": {},
   "source": [
    "# ---------------------------------------------------------------"
   ]
  },
  {
   "cell_type": "code",
   "execution_count": 443,
   "metadata": {},
   "outputs": [
    {
     "data": {
      "text/html": [
       "<div>\n",
       "<style scoped>\n",
       "    .dataframe tbody tr th:only-of-type {\n",
       "        vertical-align: middle;\n",
       "    }\n",
       "\n",
       "    .dataframe tbody tr th {\n",
       "        vertical-align: top;\n",
       "    }\n",
       "\n",
       "    .dataframe thead th {\n",
       "        text-align: right;\n",
       "    }\n",
       "</style>\n",
       "<table border=\"1\" class=\"dataframe\">\n",
       "  <thead>\n",
       "    <tr style=\"text-align: right;\">\n",
       "      <th></th>\n",
       "      <th>Unnamed: 0</th>\n",
       "      <th>Safety</th>\n",
       "      <th>yacEPA</th>\n",
       "      <th>Drive</th>\n",
       "      <th>airEPA</th>\n",
       "      <th>Field_Goal_Prob</th>\n",
       "      <th>posteam</th>\n",
       "      <th>Penalty.Yards</th>\n",
       "      <th>DefTeamScore</th>\n",
       "      <th>Tackler2</th>\n",
       "      <th>...</th>\n",
       "      <th>Accepted.Penalty</th>\n",
       "      <th>qtr</th>\n",
       "      <th>AwayTimeouts_Remaining_Post</th>\n",
       "      <th>RunGap</th>\n",
       "      <th>Reception</th>\n",
       "      <th>TimeUnder</th>\n",
       "      <th>Season</th>\n",
       "      <th>Opp_Safety_Prob</th>\n",
       "      <th>No_Score_Prob</th>\n",
       "      <th>Challenge.Replay</th>\n",
       "    </tr>\n",
       "  </thead>\n",
       "  <tbody>\n",
       "    <tr>\n",
       "      <th>0</th>\n",
       "      <td>244485</td>\n",
       "      <td>0</td>\n",
       "      <td>1.240299</td>\n",
       "      <td>18</td>\n",
       "      <td>-0.588101</td>\n",
       "      <td>0.309404</td>\n",
       "      <td>TB</td>\n",
       "      <td>0</td>\n",
       "      <td>10.0</td>\n",
       "      <td>NaN</td>\n",
       "      <td>...</td>\n",
       "      <td>0</td>\n",
       "      <td>3</td>\n",
       "      <td>3</td>\n",
       "      <td>NaN</td>\n",
       "      <td>1</td>\n",
       "      <td>1</td>\n",
       "      <td>2014</td>\n",
       "      <td>0.000527</td>\n",
       "      <td>0.024134</td>\n",
       "      <td>0</td>\n",
       "    </tr>\n",
       "    <tr>\n",
       "      <th>1</th>\n",
       "      <td>115340</td>\n",
       "      <td>0</td>\n",
       "      <td>NaN</td>\n",
       "      <td>22</td>\n",
       "      <td>NaN</td>\n",
       "      <td>0.198142</td>\n",
       "      <td>OAK</td>\n",
       "      <td>0</td>\n",
       "      <td>14.0</td>\n",
       "      <td>NaN</td>\n",
       "      <td>...</td>\n",
       "      <td>0</td>\n",
       "      <td>4</td>\n",
       "      <td>3</td>\n",
       "      <td>NaN</td>\n",
       "      <td>0</td>\n",
       "      <td>7</td>\n",
       "      <td>2011</td>\n",
       "      <td>0.001883</td>\n",
       "      <td>0.246929</td>\n",
       "      <td>0</td>\n",
       "    </tr>\n",
       "    <tr>\n",
       "      <th>2</th>\n",
       "      <td>68357</td>\n",
       "      <td>0</td>\n",
       "      <td>NaN</td>\n",
       "      <td>8</td>\n",
       "      <td>NaN</td>\n",
       "      <td>0.000000</td>\n",
       "      <td>NYJ</td>\n",
       "      <td>0</td>\n",
       "      <td>13.0</td>\n",
       "      <td>NaN</td>\n",
       "      <td>...</td>\n",
       "      <td>0</td>\n",
       "      <td>2</td>\n",
       "      <td>1</td>\n",
       "      <td>NaN</td>\n",
       "      <td>0</td>\n",
       "      <td>1</td>\n",
       "      <td>2010</td>\n",
       "      <td>0.000000</td>\n",
       "      <td>0.000000</td>\n",
       "      <td>0</td>\n",
       "    </tr>\n",
       "    <tr>\n",
       "      <th>3</th>\n",
       "      <td>368377</td>\n",
       "      <td>0</td>\n",
       "      <td>1.075660</td>\n",
       "      <td>24</td>\n",
       "      <td>0.402080</td>\n",
       "      <td>0.258227</td>\n",
       "      <td>CLE</td>\n",
       "      <td>0</td>\n",
       "      <td>31.0</td>\n",
       "      <td>NaN</td>\n",
       "      <td>...</td>\n",
       "      <td>0</td>\n",
       "      <td>4</td>\n",
       "      <td>0</td>\n",
       "      <td>NaN</td>\n",
       "      <td>1</td>\n",
       "      <td>9</td>\n",
       "      <td>2017</td>\n",
       "      <td>0.000845</td>\n",
       "      <td>0.133814</td>\n",
       "      <td>0</td>\n",
       "    </tr>\n",
       "    <tr>\n",
       "      <th>4</th>\n",
       "      <td>384684</td>\n",
       "      <td>0</td>\n",
       "      <td>NaN</td>\n",
       "      <td>11</td>\n",
       "      <td>NaN</td>\n",
       "      <td>0.199771</td>\n",
       "      <td>DEN</td>\n",
       "      <td>0</td>\n",
       "      <td>24.0</td>\n",
       "      <td>NaN</td>\n",
       "      <td>...</td>\n",
       "      <td>0</td>\n",
       "      <td>2</td>\n",
       "      <td>2</td>\n",
       "      <td>end</td>\n",
       "      <td>0</td>\n",
       "      <td>10</td>\n",
       "      <td>2017</td>\n",
       "      <td>0.003453</td>\n",
       "      <td>0.170787</td>\n",
       "      <td>0</td>\n",
       "    </tr>\n",
       "    <tr>\n",
       "      <th>...</th>\n",
       "      <td>...</td>\n",
       "      <td>...</td>\n",
       "      <td>...</td>\n",
       "      <td>...</td>\n",
       "      <td>...</td>\n",
       "      <td>...</td>\n",
       "      <td>...</td>\n",
       "      <td>...</td>\n",
       "      <td>...</td>\n",
       "      <td>...</td>\n",
       "      <td>...</td>\n",
       "      <td>...</td>\n",
       "      <td>...</td>\n",
       "      <td>...</td>\n",
       "      <td>...</td>\n",
       "      <td>...</td>\n",
       "      <td>...</td>\n",
       "      <td>...</td>\n",
       "      <td>...</td>\n",
       "      <td>...</td>\n",
       "      <td>...</td>\n",
       "    </tr>\n",
       "    <tr>\n",
       "      <th>40764</th>\n",
       "      <td>79438</td>\n",
       "      <td>0</td>\n",
       "      <td>NaN</td>\n",
       "      <td>3</td>\n",
       "      <td>NaN</td>\n",
       "      <td>0.381506</td>\n",
       "      <td>NO</td>\n",
       "      <td>0</td>\n",
       "      <td>0.0</td>\n",
       "      <td>NaN</td>\n",
       "      <td>...</td>\n",
       "      <td>0</td>\n",
       "      <td>1</td>\n",
       "      <td>3</td>\n",
       "      <td>guard</td>\n",
       "      <td>0</td>\n",
       "      <td>3</td>\n",
       "      <td>2010</td>\n",
       "      <td>0.000021</td>\n",
       "      <td>0.005075</td>\n",
       "      <td>0</td>\n",
       "    </tr>\n",
       "    <tr>\n",
       "      <th>40765</th>\n",
       "      <td>398233</td>\n",
       "      <td>0</td>\n",
       "      <td>NaN</td>\n",
       "      <td>9</td>\n",
       "      <td>NaN</td>\n",
       "      <td>0.244675</td>\n",
       "      <td>DEN</td>\n",
       "      <td>0</td>\n",
       "      <td>0.0</td>\n",
       "      <td>NaN</td>\n",
       "      <td>...</td>\n",
       "      <td>0</td>\n",
       "      <td>2</td>\n",
       "      <td>3</td>\n",
       "      <td>guard</td>\n",
       "      <td>0</td>\n",
       "      <td>3</td>\n",
       "      <td>2017</td>\n",
       "      <td>0.000134</td>\n",
       "      <td>0.287528</td>\n",
       "      <td>0</td>\n",
       "    </tr>\n",
       "    <tr>\n",
       "      <th>40766</th>\n",
       "      <td>396466</td>\n",
       "      <td>0</td>\n",
       "      <td>NaN</td>\n",
       "      <td>8</td>\n",
       "      <td>NaN</td>\n",
       "      <td>0.147057</td>\n",
       "      <td>ATL</td>\n",
       "      <td>0</td>\n",
       "      <td>10.0</td>\n",
       "      <td>NaN</td>\n",
       "      <td>...</td>\n",
       "      <td>0</td>\n",
       "      <td>2</td>\n",
       "      <td>1</td>\n",
       "      <td>guard</td>\n",
       "      <td>0</td>\n",
       "      <td>1</td>\n",
       "      <td>2017</td>\n",
       "      <td>0.001132</td>\n",
       "      <td>0.612357</td>\n",
       "      <td>0</td>\n",
       "    </tr>\n",
       "    <tr>\n",
       "      <th>40767</th>\n",
       "      <td>333861</td>\n",
       "      <td>0</td>\n",
       "      <td>0.025040</td>\n",
       "      <td>14</td>\n",
       "      <td>0.280049</td>\n",
       "      <td>0.373774</td>\n",
       "      <td>IND</td>\n",
       "      <td>0</td>\n",
       "      <td>13.0</td>\n",
       "      <td>NaN</td>\n",
       "      <td>...</td>\n",
       "      <td>0</td>\n",
       "      <td>3</td>\n",
       "      <td>3</td>\n",
       "      <td>NaN</td>\n",
       "      <td>1</td>\n",
       "      <td>7</td>\n",
       "      <td>2016</td>\n",
       "      <td>0.000042</td>\n",
       "      <td>0.002641</td>\n",
       "      <td>0</td>\n",
       "    </tr>\n",
       "    <tr>\n",
       "      <th>40768</th>\n",
       "      <td>247608</td>\n",
       "      <td>0</td>\n",
       "      <td>-2.441755</td>\n",
       "      <td>6</td>\n",
       "      <td>1.692283</td>\n",
       "      <td>0.210732</td>\n",
       "      <td>CIN</td>\n",
       "      <td>0</td>\n",
       "      <td>3.0</td>\n",
       "      <td>NaN</td>\n",
       "      <td>...</td>\n",
       "      <td>0</td>\n",
       "      <td>1</td>\n",
       "      <td>3</td>\n",
       "      <td>NaN</td>\n",
       "      <td>0</td>\n",
       "      <td>2</td>\n",
       "      <td>2014</td>\n",
       "      <td>0.006138</td>\n",
       "      <td>0.040037</td>\n",
       "      <td>0</td>\n",
       "    </tr>\n",
       "  </tbody>\n",
       "</table>\n",
       "<p>40769 rows × 30 columns</p>\n",
       "</div>"
      ],
      "text/plain": [
       "       Unnamed: 0  Safety    yacEPA  Drive    airEPA  Field_Goal_Prob posteam  \\\n",
       "0          244485       0  1.240299     18 -0.588101         0.309404      TB   \n",
       "1          115340       0       NaN     22       NaN         0.198142     OAK   \n",
       "2           68357       0       NaN      8       NaN         0.000000     NYJ   \n",
       "3          368377       0  1.075660     24  0.402080         0.258227     CLE   \n",
       "4          384684       0       NaN     11       NaN         0.199771     DEN   \n",
       "...           ...     ...       ...    ...       ...              ...     ...   \n",
       "40764       79438       0       NaN      3       NaN         0.381506      NO   \n",
       "40765      398233       0       NaN      9       NaN         0.244675     DEN   \n",
       "40766      396466       0       NaN      8       NaN         0.147057     ATL   \n",
       "40767      333861       0  0.025040     14  0.280049         0.373774     IND   \n",
       "40768      247608       0 -2.441755      6  1.692283         0.210732     CIN   \n",
       "\n",
       "       Penalty.Yards  DefTeamScore Tackler2  ...  Accepted.Penalty  qtr  \\\n",
       "0                  0          10.0      NaN  ...                 0    3   \n",
       "1                  0          14.0      NaN  ...                 0    4   \n",
       "2                  0          13.0      NaN  ...                 0    2   \n",
       "3                  0          31.0      NaN  ...                 0    4   \n",
       "4                  0          24.0      NaN  ...                 0    2   \n",
       "...              ...           ...      ...  ...               ...  ...   \n",
       "40764              0           0.0      NaN  ...                 0    1   \n",
       "40765              0           0.0      NaN  ...                 0    2   \n",
       "40766              0          10.0      NaN  ...                 0    2   \n",
       "40767              0          13.0      NaN  ...                 0    3   \n",
       "40768              0           3.0      NaN  ...                 0    1   \n",
       "\n",
       "       AwayTimeouts_Remaining_Post  RunGap Reception  TimeUnder Season  \\\n",
       "0                                3     NaN         1          1   2014   \n",
       "1                                3     NaN         0          7   2011   \n",
       "2                                1     NaN         0          1   2010   \n",
       "3                                0     NaN         1          9   2017   \n",
       "4                                2     end         0         10   2017   \n",
       "...                            ...     ...       ...        ...    ...   \n",
       "40764                            3   guard         0          3   2010   \n",
       "40765                            3   guard         0          3   2017   \n",
       "40766                            1   guard         0          1   2017   \n",
       "40767                            3     NaN         1          7   2016   \n",
       "40768                            3     NaN         0          2   2014   \n",
       "\n",
       "      Opp_Safety_Prob  No_Score_Prob  Challenge.Replay  \n",
       "0            0.000527       0.024134                 0  \n",
       "1            0.001883       0.246929                 0  \n",
       "2            0.000000       0.000000                 0  \n",
       "3            0.000845       0.133814                 0  \n",
       "4            0.003453       0.170787                 0  \n",
       "...               ...            ...               ...  \n",
       "40764        0.000021       0.005075                 0  \n",
       "40765        0.000134       0.287528                 0  \n",
       "40766        0.001132       0.612357                 0  \n",
       "40767        0.000042       0.002641                 0  \n",
       "40768        0.006138       0.040037                 0  \n",
       "\n",
       "[40769 rows x 30 columns]"
      ]
     },
     "execution_count": 443,
     "metadata": {},
     "output_type": "execute_result"
    }
   ],
   "source": [
    "df"
   ]
  },
  {
   "cell_type": "markdown",
   "metadata": {},
   "source": [
    "# ---------------------------------------------------------------"
   ]
  },
  {
   "cell_type": "markdown",
   "metadata": {},
   "source": [
    "## \"DefTeamScore\" ustunida NaN qiymatlar soni ?"
   ]
  },
  {
   "cell_type": "code",
   "execution_count": 444,
   "metadata": {},
   "outputs": [
    {
     "data": {
      "text/plain": [
       "2750"
      ]
     },
     "execution_count": 444,
     "metadata": {},
     "output_type": "execute_result"
    }
   ],
   "source": [
    "df[\"DefTeamScore\"].isnull().sum()"
   ]
  },
  {
   "cell_type": "markdown",
   "metadata": {},
   "source": [
    "## NaN qiymatlar soni 2750ta ekan bu umumiydan 6,7% ni tashkil qiladi. Bu ustunda himoya qilayotgan jamoaning ochkolar soni berilgan."
   ]
  },
  {
   "cell_type": "markdown",
   "metadata": {},
   "source": [
    "## NaN qiymatlar o'rniga o'rta arifmetik yoki median qiymat qo'yib yuborsak bo'ladi."
   ]
  },
  {
   "cell_type": "code",
   "execution_count": 445,
   "metadata": {},
   "outputs": [
    {
     "data": {
      "text/plain": [
       "(11.366316841579211,\n",
       " 10.0,\n",
       " 0    0.0\n",
       " Name: DefTeamScore, dtype: float64)"
      ]
     },
     "execution_count": 445,
     "metadata": {},
     "output_type": "execute_result"
    }
   ],
   "source": [
    "df[\"DefTeamScore\"].mean(), df[\"DefTeamScore\"].median(), df[\"DefTeamScore\"].mode()"
   ]
  },
  {
   "cell_type": "code",
   "execution_count": 446,
   "metadata": {},
   "outputs": [
    {
     "data": {
      "text/plain": [
       "0"
      ]
     },
     "execution_count": 446,
     "metadata": {},
     "output_type": "execute_result"
    }
   ],
   "source": [
    "df['DefTeamScore'] = df['DefTeamScore'].fillna(df['DefTeamScore'].median())\n",
    "df[\"DefTeamScore\"].isnull().sum()"
   ]
  },
  {
   "cell_type": "markdown",
   "metadata": {},
   "source": [
    "## \"DefTeamScore\" ustuni NaN qiymatlar o'rniga qolgan qiymatlarning medianini qo'yib yubordik."
   ]
  },
  {
   "cell_type": "markdown",
   "metadata": {},
   "source": [
    "# ---------------------------------------------------------------"
   ]
  },
  {
   "cell_type": "markdown",
   "metadata": {},
   "source": [
    "## \"TimeSecs\" ustunidagi NaN qiymatlar soni ?"
   ]
  },
  {
   "cell_type": "code",
   "execution_count": 447,
   "metadata": {},
   "outputs": [
    {
     "data": {
      "text/plain": [
       "27"
      ]
     },
     "execution_count": 447,
     "metadata": {},
     "output_type": "execute_result"
    }
   ],
   "source": [
    "df[\"TimeSecs\"].isnull().sum()"
   ]
  },
  {
   "cell_type": "markdown",
   "metadata": {},
   "source": [
    "## Bizda \"TimeSecs\" ustuni o'yin boshlanishidan beri qancha vaqt o'tganini ko'rsatadi."
   ]
  },
  {
   "cell_type": "markdown",
   "metadata": {},
   "source": [
    "## Bu ustunda 27ta NaN qiymat bor ekan , bu umumiydan 0,07% tashkil qiladi , NaN qiymatlar o'rniga o'ra arifmetik yoki median qiymat qo'yib yuboramiz."
   ]
  },
  {
   "cell_type": "code",
   "execution_count": 448,
   "metadata": {},
   "outputs": [
    {
     "data": {
      "text/plain": [
       "(1699.549874822051,\n",
       " 1800.0,\n",
       " 0    1800.0\n",
       " Name: TimeSecs, dtype: float64)"
      ]
     },
     "execution_count": 448,
     "metadata": {},
     "output_type": "execute_result"
    }
   ],
   "source": [
    "df[\"TimeSecs\"].mean(), df[\"TimeSecs\"].median(), df[\"TimeSecs\"].mode()"
   ]
  },
  {
   "cell_type": "code",
   "execution_count": 449,
   "metadata": {},
   "outputs": [
    {
     "data": {
      "text/plain": [
       "0"
      ]
     },
     "execution_count": 449,
     "metadata": {},
     "output_type": "execute_result"
    }
   ],
   "source": [
    "df['TimeSecs'] = df['TimeSecs'].fillna(df['TimeSecs'].median())\n",
    "df[\"TimeSecs\"].isnull().sum()"
   ]
  },
  {
   "cell_type": "markdown",
   "metadata": {},
   "source": [
    "## Median qiymat mode ga yaqin bo'lgani uchun median qiymatni NaN lar o'rniga qo'yib yubordim."
   ]
  },
  {
   "cell_type": "markdown",
   "metadata": {},
   "source": [
    "# ---------------------------------------------------------------"
   ]
  },
  {
   "cell_type": "markdown",
   "metadata": {},
   "source": [
    "## \"Passer\" ustunidagi NaN qiymatlar soni ?"
   ]
  },
  {
   "cell_type": "code",
   "execution_count": 450,
   "metadata": {},
   "outputs": [
    {
     "data": {
      "text/plain": [
       "24073"
      ]
     },
     "execution_count": 450,
     "metadata": {},
     "output_type": "execute_result"
    }
   ],
   "source": [
    "df[\"Passer\"].isnull().sum()"
   ]
  },
  {
   "cell_type": "code",
   "execution_count": 451,
   "metadata": {},
   "outputs": [
    {
     "data": {
      "text/plain": [
       "0    M.Glennon\n",
       "1          NaN\n",
       "2          NaN\n",
       "3      D.Kizer\n",
       "4          NaN\n",
       "Name: Passer, dtype: object"
      ]
     },
     "execution_count": 451,
     "metadata": {},
     "output_type": "execute_result"
    }
   ],
   "source": [
    "df[\"Passer\"].head()"
   ]
  },
  {
   "cell_type": "code",
   "execution_count": 452,
   "metadata": {},
   "outputs": [
    {
     "data": {
      "text/plain": [
       "0"
      ]
     },
     "execution_count": 452,
     "metadata": {},
     "output_type": "execute_result"
    }
   ],
   "source": [
    "mode_passer = df[\"Passer\"].mode().values[0]\n",
    "df[\"Passer\"]=df[\"Passer\"].fillna(mode_passer)\n",
    "df[\"Passer\"].isnull().sum()"
   ]
  },
  {
   "cell_type": "markdown",
   "metadata": {},
   "source": [
    "## \"Passer\" ustuni pas bergan o'yinchi ismi saqlangan. Endi biz NaN qiymatlar o'rniga ushbu ustun modasini qo'yib yuborsak bo'ladi chunki ehtimolligi baland."
   ]
  },
  {
   "cell_type": "markdown",
   "metadata": {},
   "source": [
    "# ---------------------------------------------------------------"
   ]
  },
  {
   "cell_type": "markdown",
   "metadata": {},
   "source": [
    "## \"No_Score_Prob\" ustunidagi NaN qiymatlar soni ?"
   ]
  },
  {
   "cell_type": "code",
   "execution_count": 453,
   "metadata": {},
   "outputs": [
    {
     "data": {
      "text/plain": [
       "21"
      ]
     },
     "execution_count": 453,
     "metadata": {},
     "output_type": "execute_result"
    }
   ],
   "source": [
    "df[\"No_Score_Prob\"].isnull().sum()"
   ]
  },
  {
   "cell_type": "markdown",
   "metadata": {},
   "source": [
    "## \"No_Score_Prob\" ustuni komandani bu oyinda hech qanday gol urolmasligining ehtimolligini saqlaydi. Ular orasida 21ta NaN qiymat mavjud ekan."
   ]
  },
  {
   "cell_type": "code",
   "execution_count": 454,
   "metadata": {},
   "outputs": [
    {
     "data": {
      "text/plain": [
       "(0.12850362468756715,\n",
       " 0.024740681704098648,\n",
       " 0    0.0\n",
       " Name: No_Score_Prob, dtype: float64)"
      ]
     },
     "execution_count": 454,
     "metadata": {},
     "output_type": "execute_result"
    }
   ],
   "source": [
    "df[\"No_Score_Prob\"].mean(), df[\"No_Score_Prob\"].median(), df[\"No_Score_Prob\"].mode()"
   ]
  },
  {
   "cell_type": "code",
   "execution_count": 455,
   "metadata": {},
   "outputs": [
    {
     "data": {
      "text/plain": [
       "0"
      ]
     },
     "execution_count": 455,
     "metadata": {},
     "output_type": "execute_result"
    }
   ],
   "source": [
    "df[\"No_Score_Prob\"]= df[\"No_Score_Prob\"].fillna(df[\"No_Score_Prob\"].median())\n",
    "df[\"No_Score_Prob\"].isnull().sum()"
   ]
  },
  {
   "cell_type": "markdown",
   "metadata": {},
   "source": [
    "## \"No_Score_Prob\" ustunidagi NaN qiymatlar o'rniga median qiymatni qo'yib yubordim chunki median qiyman mode ga yaqinroq ekan mean ga qaraganda."
   ]
  },
  {
   "cell_type": "markdown",
   "metadata": {},
   "source": [
    "# ---------------------------------------------------------------"
   ]
  },
  {
   "cell_type": "markdown",
   "metadata": {},
   "source": [
    "## \"TwoPointConv\" ustunidagi Null qiymatlar soni ?"
   ]
  },
  {
   "cell_type": "code",
   "execution_count": 456,
   "metadata": {},
   "outputs": [
    {
     "data": {
      "text/plain": [
       "40716"
      ]
     },
     "execution_count": 456,
     "metadata": {},
     "output_type": "execute_result"
    }
   ],
   "source": [
    "df[\"TwoPointConv\"].isnull().sum()"
   ]
  },
  {
   "cell_type": "code",
   "execution_count": 457,
   "metadata": {},
   "outputs": [
    {
     "data": {
      "text/plain": [
       "(40769, 29)"
      ]
     },
     "execution_count": 457,
     "metadata": {},
     "output_type": "execute_result"
    }
   ],
   "source": [
    "df = df.drop('TwoPointConv', axis=1)\n",
    "df.shape"
   ]
  },
  {
   "cell_type": "markdown",
   "metadata": {},
   "source": [
    "## \"TwoPointConv\" bu ustun ikkita gol urishga harakat qilinganmi yoki yo'qligini saqlaydi. Bu ustunda Null qiymatlar soni 40716ta ekan umumiy 40769tadan, bu degani 99,8% Null mqiymatlar bilan to'lgan ekan, drop qilib yuborsak ham bo'ladi."
   ]
  },
  {
   "cell_type": "markdown",
   "metadata": {},
   "source": [
    "# ---------------------------------------------------------------"
   ]
  },
  {
   "cell_type": "code",
   "execution_count": 458,
   "metadata": {},
   "outputs": [
    {
     "data": {
      "text/plain": [
       "(32008, 35826)"
      ]
     },
     "execution_count": 458,
     "metadata": {},
     "output_type": "execute_result"
    }
   ],
   "source": [
    "df[\"RunGap\"].isnull().sum(), df[\"Tackler2\"].isnull().sum()"
   ]
  },
  {
   "cell_type": "code",
   "execution_count": 459,
   "metadata": {},
   "outputs": [
    {
     "data": {
      "text/plain": [
       "(40769, 27)"
      ]
     },
     "execution_count": 459,
     "metadata": {},
     "output_type": "execute_result"
    }
   ],
   "source": [
    "df = df.drop('RunGap', axis=1)\n",
    "df = df.drop('Tackler2', axis=1)\n",
    "df.shape"
   ]
  },
  {
   "cell_type": "markdown",
   "metadata": {},
   "source": [
    "## \"RunGap\" ham xuddi yuqoridagidek."
   ]
  },
  {
   "cell_type": "markdown",
   "metadata": {},
   "source": [
    "# ---------------------------------------------------------------"
   ]
  },
  {
   "cell_type": "code",
   "execution_count": 460,
   "metadata": {},
   "outputs": [
    {
     "data": {
      "text/plain": [
       "21"
      ]
     },
     "execution_count": 460,
     "metadata": {},
     "output_type": "execute_result"
    }
   ],
   "source": [
    "df[\"Opp_Safety_Prob\"].isnull().sum()"
   ]
  },
  {
   "cell_type": "code",
   "execution_count": 461,
   "metadata": {},
   "outputs": [
    {
     "data": {
      "text/plain": [
       "(0.0024909703970792414,\n",
       " 0.0009774148652909,\n",
       " 0    0.0\n",
       " Name: Opp_Safety_Prob, dtype: float64)"
      ]
     },
     "execution_count": 461,
     "metadata": {},
     "output_type": "execute_result"
    }
   ],
   "source": [
    "df[\"Opp_Safety_Prob\"].mean(), df[\"Opp_Safety_Prob\"].median(), df[\"Opp_Safety_Prob\"].mode()"
   ]
  },
  {
   "cell_type": "code",
   "execution_count": 462,
   "metadata": {},
   "outputs": [
    {
     "data": {
      "text/plain": [
       "0"
      ]
     },
     "execution_count": 462,
     "metadata": {},
     "output_type": "execute_result"
    }
   ],
   "source": [
    "df[\"Opp_Safety_Prob\"] = df[\"Opp_Safety_Prob\"].fillna(df[\"Opp_Safety_Prob\"].median())\n",
    "df[\"Opp_Safety_Prob\"].isnull().sum()"
   ]
  },
  {
   "cell_type": "markdown",
   "metadata": {},
   "source": [
    "## \"Opp_Safety_Prob\" ustunida ehtimolliklar berilgan ularni orasida 21ta Null qiymat bor ekan 40769tani ichida Null qiymatlarni o'rniga median qiymatni qo'yib yubordim."
   ]
  },
  {
   "cell_type": "markdown",
   "metadata": {},
   "source": [
    "# ---------------------------------------------------------------"
   ]
  },
  {
   "cell_type": "code",
   "execution_count": 463,
   "metadata": {},
   "outputs": [
    {
     "data": {
      "text/plain": [
       "43"
      ]
     },
     "execution_count": 463,
     "metadata": {},
     "output_type": "execute_result"
    }
   ],
   "source": [
    "df[\"PlayTimeDiff\"].isnull().sum()"
   ]
  },
  {
   "cell_type": "code",
   "execution_count": 464,
   "metadata": {},
   "outputs": [
    {
     "data": {
      "text/plain": [
       "(20.77422285517851,\n",
       " 18.0,\n",
       " 0    0.0\n",
       " Name: PlayTimeDiff, dtype: float64)"
      ]
     },
     "execution_count": 464,
     "metadata": {},
     "output_type": "execute_result"
    }
   ],
   "source": [
    "df[\"PlayTimeDiff\"].mean(), df[\"PlayTimeDiff\"].median(), df[\"PlayTimeDiff\"].mode()"
   ]
  },
  {
   "cell_type": "code",
   "execution_count": 465,
   "metadata": {},
   "outputs": [
    {
     "data": {
      "text/plain": [
       "0"
      ]
     },
     "execution_count": 465,
     "metadata": {},
     "output_type": "execute_result"
    }
   ],
   "source": [
    "df[\"PlayTimeDiff\"]= df[\"PlayTimeDiff\"].fillna(df[\"PlayTimeDiff\"].median())\n",
    "df[\"PlayTimeDiff\"].isnull().sum()"
   ]
  },
  {
   "cell_type": "markdown",
   "metadata": {},
   "source": [
    "## Median qiymatni qoyordim"
   ]
  },
  {
   "cell_type": "markdown",
   "metadata": {},
   "source": [
    "# ---------------------------------------------------------------"
   ]
  },
  {
   "cell_type": "code",
   "execution_count": 466,
   "metadata": {},
   "outputs": [
    {
     "data": {
      "text/plain": [
       "(24902, 24894, 24018)"
      ]
     },
     "execution_count": 466,
     "metadata": {},
     "output_type": "execute_result"
    }
   ],
   "source": [
    "df[\"yacEPA\"].isnull().sum(), df[\"airEPA\"].isnull().sum(), df[\"PassOutcome\"].isnull().sum()"
   ]
  },
  {
   "cell_type": "code",
   "execution_count": 467,
   "metadata": {},
   "outputs": [
    {
     "data": {
      "text/plain": [
       "(40769, 24)"
      ]
     },
     "execution_count": 467,
     "metadata": {},
     "output_type": "execute_result"
    }
   ],
   "source": [
    "df = df.drop('yacEPA', axis=1)\n",
    "df = df.drop('airEPA', axis=1)\n",
    "df = df.drop('PassOutcome', axis=1)\n",
    "df.shape"
   ]
  },
  {
   "cell_type": "markdown",
   "metadata": {},
   "source": [
    "## Yuqoridagi ustunlarni 55+% ma'lumot yo'qligi uchun drop qilib yubordim."
   ]
  },
  {
   "cell_type": "markdown",
   "metadata": {},
   "source": [
    "# ---------------------------------------------------------------"
   ]
  },
  {
   "cell_type": "code",
   "execution_count": 468,
   "metadata": {},
   "outputs": [
    {
     "name": "stdout",
     "output_type": "stream",
     "text": [
      "<class 'pandas.core.frame.DataFrame'>\n",
      "RangeIndex: 40769 entries, 0 to 40768\n",
      "Data columns (total 24 columns):\n",
      " #   Column                       Non-Null Count  Dtype  \n",
      "---  ------                       --------------  -----  \n",
      " 0   Unnamed: 0                   40769 non-null  int64  \n",
      " 1   Safety                       40769 non-null  int64  \n",
      " 2   Drive                        40769 non-null  int64  \n",
      " 3   Field_Goal_Prob              40769 non-null  float64\n",
      " 4   posteam                      40769 non-null  object \n",
      " 5   Penalty.Yards                40769 non-null  int64  \n",
      " 6   DefTeamScore                 40769 non-null  float64\n",
      " 7   Away_WP_pre                  38223 non-null  float64\n",
      " 8   Timeout_Indicator            40769 non-null  int64  \n",
      " 9   ydsnet                       40769 non-null  int64  \n",
      " 10  TimeSecs                     40769 non-null  float64\n",
      " 11  Passer                       40769 non-null  object \n",
      " 12  Touchdown                    40769 non-null  int64  \n",
      " 13  PlayTimeDiff                 40769 non-null  float64\n",
      " 14  RushAttempt                  40769 non-null  int64  \n",
      " 15  Accepted.Penalty             40769 non-null  int64  \n",
      " 16  qtr                          40769 non-null  int64  \n",
      " 17  AwayTimeouts_Remaining_Post  40769 non-null  int64  \n",
      " 18  Reception                    40769 non-null  int64  \n",
      " 19  TimeUnder                    40769 non-null  int64  \n",
      " 20  Season                       40769 non-null  int64  \n",
      " 21  Opp_Safety_Prob              40769 non-null  float64\n",
      " 22  No_Score_Prob                40769 non-null  float64\n",
      " 23  Challenge.Replay             40769 non-null  int64  \n",
      "dtypes: float64(7), int64(15), object(2)\n",
      "memory usage: 7.5+ MB\n"
     ]
    }
   ],
   "source": [
    "df.info()"
   ]
  },
  {
   "cell_type": "markdown",
   "metadata": {},
   "source": [
    "## Bu yangi tozalangan Null siz DataFrame "
   ]
  },
  {
   "cell_type": "markdown",
   "metadata": {},
   "source": [
    "# ---------------------------------------------------------------"
   ]
  }
 ],
 "metadata": {
  "kernelspec": {
   "display_name": "Python 3",
   "language": "python",
   "name": "python3"
  },
  "language_info": {
   "codemirror_mode": {
    "name": "ipython",
    "version": 3
   },
   "file_extension": ".py",
   "mimetype": "text/x-python",
   "name": "python",
   "nbconvert_exporter": "python",
   "pygments_lexer": "ipython3",
   "version": "3.12.0"
  }
 },
 "nbformat": 4,
 "nbformat_minor": 2
}
